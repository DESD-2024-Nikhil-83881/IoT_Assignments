{
 "cells": [
  {
   "cell_type": "code",
   "execution_count": 2,
   "id": "6dc7cce8-9d2b-483b-a568-8c8f26d80072",
   "metadata": {},
   "outputs": [],
   "source": [
    "import numpy as np\n",
    "def function1():\n",
    "    arr = np.array([10,20,30,40,50,60])\n",
    "    print(arr)\n",
    "    print(f\"Size = {arr.size}\")"
   ]
  },
  {
   "cell_type": "code",
   "execution_count": 5,
   "id": "513caafe-060b-4757-9e5d-1302b700ba14",
   "metadata": {},
   "outputs": [
    {
     "name": "stdout",
     "output_type": "stream",
     "text": [
      "[10 20 30 40 50 60]\n",
      "Size = 6\n"
     ]
    }
   ],
   "source": [
    "function1()"
   ]
  },
  {
   "cell_type": "code",
   "execution_count": 11,
   "id": "763d0fdf-e41e-4bdb-849e-03efd4a54711",
   "metadata": {},
   "outputs": [],
   "source": [
    "def function2(a):\n",
    "    a1=np.array([1,2,3,4,])\n",
    "    a2=np.array([7,4,3,2,])\n",
    "    if a1[a]>a2[a]:\n",
    "        print(\"a1 is greater\")\n",
    "    elif a1[a]<a2[a]:\n",
    "        print(\"a2 is greater\")\n",
    "    else:\n",
    "        print(\"equal\")"
   ]
  },
  {
   "cell_type": "code",
   "execution_count": 15,
   "id": "5e3f8fe3-5145-4295-976e-57f286e44ce5",
   "metadata": {},
   "outputs": [
    {
     "name": "stdout",
     "output_type": "stream",
     "text": [
      "a1 is greater\n"
     ]
    }
   ],
   "source": [
    "function2(3)"
   ]
  },
  {
   "cell_type": "code",
   "execution_count": 17,
   "id": "65eaff78-a34d-4f17-a611-8879dc68c241",
   "metadata": {},
   "outputs": [],
   "source": [
    "arr1=np.zeros(10)\n",
    "arr2=np.ones(10)\n",
    "arr3=np.ones(10)*5\n",
    "arr4=np.ones(10)*10\n",
    "arr5=np.ones(10)*50\n",
    "arr6=np.ones(10)*20"
   ]
  },
  {
   "cell_type": "code",
   "execution_count": 18,
   "id": "c77eddc7-25f1-47c5-866b-e6ae9d71b217",
   "metadata": {},
   "outputs": [
    {
     "name": "stdout",
     "output_type": "stream",
     "text": [
      "[0. 0. 0. 0. 0. 0. 0. 0. 0. 0.] [1. 1. 1. 1. 1. 1. 1. 1. 1. 1.] [5. 5. 5. 5. 5. 5. 5. 5. 5. 5.] [10. 10. 10. 10. 10. 10. 10. 10. 10. 10.] [50. 50. 50. 50. 50. 50. 50. 50. 50. 50.] [20. 20. 20. 20. 20. 20. 20. 20. 20. 20.]\n"
     ]
    }
   ],
   "source": [
    "print(arr1,arr2,arr3,arr4,arr5,arr6)"
   ]
  },
  {
   "cell_type": "code",
   "execution_count": 20,
   "id": "22160c04-66ad-4d3f-970b-46e2ac08b84a",
   "metadata": {},
   "outputs": [
    {
     "name": "stdout",
     "output_type": "stream",
     "text": [
      "[30 31 32 33 34 35 36 37 38 39 40 41 42 43 44 45 46 47 48 49 50 51 52 53\n",
      " 54 55 56 57 58 59 60 61 62 63 64 65 66 67 68 69]\n"
     ]
    }
   ],
   "source": [
    "arr = np.arange(30,70)\n",
    "print(arr)"
   ]
  },
  {
   "cell_type": "code",
   "execution_count": 21,
   "id": "7dadc3f4-c079-40a7-9e54-f4947865548d",
   "metadata": {},
   "outputs": [
    {
     "name": "stdout",
     "output_type": "stream",
     "text": [
      "[50 51 52 53 54 55 56 57 58 59 60 61 62 63 64 65 66 67 68 69 70 71 72 73\n",
      " 74 75 76 77 78 79 80 81 82 83 84 85 86 87 88 89 90 91 92 93 94]\n"
     ]
    }
   ],
   "source": [
    "arr1 = np.arange(50,95)\n",
    "print(arr1)"
   ]
  },
  {
   "cell_type": "code",
   "execution_count": 22,
   "id": "4d56d638-f2db-4551-b4cb-bdeaa3b62d8b",
   "metadata": {},
   "outputs": [
    {
     "name": "stdout",
     "output_type": "stream",
     "text": [
      "[20 22 24 26 28 30 32 34 36 38 40 42 44 46 48 50 52 54 56 58 60 62 64 66\n",
      " 68 70 72 74 76 78]\n"
     ]
    }
   ],
   "source": [
    "arr1 = np.arange(20,80,2)\n",
    "print(arr1)"
   ]
  },
  {
   "cell_type": "code",
   "execution_count": 23,
   "id": "d3697eee-ef25-4802-96cf-a4c981bdf8f0",
   "metadata": {},
   "outputs": [
    {
     "name": "stdout",
     "output_type": "stream",
     "text": [
      "[21 23 25 27 29 31 33 35 37 39 41 43 45 47 49 51 53 55 57 59 61 63 65 67\n",
      " 69 71 73 75 77 79]\n"
     ]
    }
   ],
   "source": [
    "arr1 = np.arange(21,80,2)\n",
    "print(arr1)"
   ]
  },
  {
   "cell_type": "code",
   "execution_count": 26,
   "id": "e54ea19d-da19-4fc0-ae99-384bd904b968",
   "metadata": {},
   "outputs": [
    {
     "name": "stdout",
     "output_type": "stream",
     "text": [
      "[11 36 13 16 38 11 39 25 21 31 26 36 37 16 20]\n"
     ]
    }
   ],
   "source": [
    "n1 = np.random.randint(10,40,15)\n",
    "print(n1)"
   ]
  },
  {
   "cell_type": "code",
   "execution_count": 27,
   "id": "efa2d9e1-b82f-4df6-b5d5-fe3f562256dc",
   "metadata": {},
   "outputs": [
    {
     "name": "stdout",
     "output_type": "stream",
     "text": [
      "[35 46 39 34 39 35 45 42 45 39]\n"
     ]
    }
   ],
   "source": [
    "n2 = np.random.randint(30,50,10)\n",
    "print(n2)"
   ]
  },
  {
   "cell_type": "code",
   "execution_count": 28,
   "id": "992c7edf-1607-4c1b-a40f-26459355dd5c",
   "metadata": {},
   "outputs": [
    {
     "name": "stdout",
     "output_type": "stream",
     "text": [
      "[52 77 72 54 62 80 65 74 60 79 67 54 70 67 82 78 78 62 69 60]\n"
     ]
    }
   ],
   "source": [
    "n3 = np.random.randint(50,90,20)\n",
    "print(n3)"
   ]
  },
  {
   "cell_type": "code",
   "execution_count": 31,
   "id": "257f1494-9054-4234-9443-1b371012eff1",
   "metadata": {},
   "outputs": [
    {
     "name": "stdout",
     "output_type": "stream",
     "text": [
      "[8 6 6 6] [-6 -2  0  2] [7 8 9 8] [0.14285714 0.5        1.         2.        ]\n"
     ]
    }
   ],
   "source": [
    "a1=np.array([1,2,3,4,])\n",
    "a2=np.array([7,4,3,2,])\n",
    "print(a1+a2,a1-a2,a1*a2,a1/a2)"
   ]
  },
  {
   "cell_type": "code",
   "execution_count": 34,
   "id": "084dcc9d-292e-45f6-8f42-ee20242d54de",
   "metadata": {},
   "outputs": [
    {
     "name": "stdout",
     "output_type": "stream",
     "text": [
      "[[11 22 33 44]\n",
      " [55 66 77 88]\n",
      " [12 33 10 20]]\n",
      "NDIM: 2\n",
      "Shape = (3, 4)\n"
     ]
    }
   ],
   "source": [
    "n1 = np.array([11,22,33,44,55,66,77,88,12,33,10,20])\n",
    "n1 = n1.reshape([3,4])\n",
    "print(n1)\n",
    "print(f\"NDIM: {n1.ndim}\")\n",
    "print(f\"Shape = {n1.shape}\")"
   ]
  },
  {
   "cell_type": "code",
   "execution_count": 35,
   "id": "f0283c97-b47b-4fec-9e2d-a5ae5af16665",
   "metadata": {},
   "outputs": [],
   "source": [
    "n1 = np.array([1,0,1,0,1,0,1,0,1])"
   ]
  },
  {
   "cell_type": "code",
   "execution_count": 37,
   "id": "c1cb829b-7968-407b-8291-0ce14838897a",
   "metadata": {},
   "outputs": [
    {
     "name": "stdout",
     "output_type": "stream",
     "text": [
      "[[1 0 1]\n",
      " [0 1 0]\n",
      " [1 0 1]]\n",
      "NDIM: 2\n",
      "Shape = (3, 3)\n"
     ]
    }
   ],
   "source": [
    "n1 = n1.reshape([3,3])\n",
    "print(n1)\n",
    "print(f\"NDIM: {n1.ndim}\")\n",
    "print(f\"Shape = {n1.shape}\")"
   ]
  },
  {
   "cell_type": "code",
   "execution_count": 3,
   "id": "8b7ebe83-489e-494c-ae99-c595e07e6eb2",
   "metadata": {},
   "outputs": [
    {
     "name": "stdout",
     "output_type": "stream",
     "text": [
      "[[1. 0. 0.]\n",
      " [0. 1. 0.]\n",
      " [0. 0. 1.]]\n"
     ]
    }
   ],
   "source": [
    "arr = np.eye(3)\n",
    "print(arr)"
   ]
  },
  {
   "cell_type": "code",
   "execution_count": 4,
   "id": "e829d7af-1717-4f8c-a140-97e59d2de4d2",
   "metadata": {},
   "outputs": [
    {
     "name": "stdout",
     "output_type": "stream",
     "text": [
      "[[1 0 0 0 0]\n",
      " [0 2 0 0 0]\n",
      " [0 0 3 0 0]\n",
      " [0 0 0 4 0]\n",
      " [0 0 0 0 5]]\n"
     ]
    }
   ],
   "source": [
    "arr = np.diag([1,2,3,4,5])\n",
    "print(arr)"
   ]
  },
  {
   "cell_type": "code",
   "execution_count": 5,
   "id": "24636e55-f6f5-47c6-9d77-353ec8d157bc",
   "metadata": {},
   "outputs": [
    {
     "name": "stdout",
     "output_type": "stream",
     "text": [
      "[[[6.83575470e-01 1.58850729e-01 7.47744051e-01]\n",
      "  [8.67652287e-04 2.04999524e-01 4.30708020e-01]\n",
      "  [6.13036036e-01 7.95399914e-01 4.64082031e-01]]\n",
      "\n",
      " [[1.51209710e-01 8.81629497e-01 8.60603782e-01]\n",
      "  [9.68476852e-02 7.30113952e-01 1.18047614e-01]\n",
      "  [3.67094474e-01 8.85459079e-01 1.23239890e-01]]\n",
      "\n",
      " [[4.09221357e-01 5.98158805e-01 9.14390993e-01]\n",
      "  [8.05234018e-01 4.08600950e-01 8.29132204e-01]\n",
      "  [1.61565442e-01 4.73957666e-01 7.15559440e-01]]]\n"
     ]
    }
   ],
   "source": [
    "arr = np.random.random((3,3,3))\n",
    "print(arr)"
   ]
  },
  {
   "cell_type": "code",
   "execution_count": 6,
   "id": "0f2c50f0-c38f-4159-96d5-470cdfd540e2",
   "metadata": {},
   "outputs": [
    {
     "name": "stdout",
     "output_type": "stream",
     "text": [
      "[[[0.09115073 0.08464977 0.13332541 0.62880134]\n",
      "  [0.11511259 0.64421852 0.16321824 0.95638874]\n",
      "  [0.98798783 0.76918676 0.99766865 0.04697822]]\n",
      "\n",
      " [[0.00569912 0.66372491 0.29460557 0.40535532]\n",
      "  [0.59655661 0.73655309 0.50484467 0.17201792]\n",
      "  [0.0771095  0.59720796 0.01123447 0.8505617 ]]]\n"
     ]
    }
   ],
   "source": [
    "arr = np.random.random((2,3,4))\n",
    "print(arr)"
   ]
  },
  {
   "cell_type": "code",
   "execution_count": 7,
   "id": "3e017a98-7e5f-4946-b84c-4b34568388e4",
   "metadata": {},
   "outputs": [
    {
     "name": "stdout",
     "output_type": "stream",
     "text": [
      "[10 20 30 40 50 60 70 80 90]\n",
      "<class 'numpy.ndarray'>\n"
     ]
    }
   ],
   "source": [
    "arr = np.array([10,20,30,40,50,60,70,80,90])\n",
    "print(arr)\n",
    "print(type(arr))"
   ]
  },
  {
   "cell_type": "code",
   "execution_count": 8,
   "id": "cdf1b4a8-f0fe-409b-8534-f7fa17033709",
   "metadata": {},
   "outputs": [
    {
     "name": "stdout",
     "output_type": "stream",
     "text": [
      "[[ 2  3  4]\n",
      " [ 5  6  7]\n",
      " [ 8  9 10]]\n"
     ]
    }
   ],
   "source": [
    "arr = np.arange(2,11).reshape(3,3)\n",
    "print(arr)"
   ]
  },
  {
   "cell_type": "code",
   "execution_count": 9,
   "id": "899066af-684f-4111-b4f1-1c6a6a1781ad",
   "metadata": {},
   "outputs": [
    {
     "name": "stdout",
     "output_type": "stream",
     "text": [
      "[12 13 14 15 16 17 18 19 20 21 22 23 24 25 26 27 28 29 30 31 32 33 34 35\n",
      " 36 37]\n"
     ]
    }
   ],
   "source": [
    "arr = np.arange(12,38)\n",
    "print(arr)"
   ]
  },
  {
   "cell_type": "code",
   "execution_count": 10,
   "id": "70771bc8-8211-4cd8-bb53-dc82a1fa4705",
   "metadata": {},
   "outputs": [
    {
     "name": "stdout",
     "output_type": "stream",
     "text": [
      "[50 40 30 20 10]\n"
     ]
    }
   ],
   "source": [
    "arr = np.array([10,20,30,40,50])\n",
    "print(arr[::-1])"
   ]
  },
  {
   "cell_type": "code",
   "execution_count": 11,
   "id": "e6968b33-0a50-4293-a6af-2e076189c229",
   "metadata": {},
   "outputs": [
    {
     "name": "stdout",
     "output_type": "stream",
     "text": [
      "[11. 22. 33. 44.]\n",
      "the data type is float16\n"
     ]
    }
   ],
   "source": [
    "arr = np.array([11,22,33,44],dtype=np.float16)\n",
    "print(arr)\n",
    "print(f\"the data type is {arr.dtype}\")"
   ]
  },
  {
   "cell_type": "code",
   "execution_count": 12,
   "id": "b2ac27c4-7a86-4d69-aed8-b5d941691afd",
   "metadata": {},
   "outputs": [
    {
     "name": "stdout",
     "output_type": "stream",
     "text": [
      "the list is [1, 2, 3, 4, 5, 6, 7, 8, 9]\n",
      "list converted to array is [1 2 3 4 5 6 7 8 9]\n"
     ]
    }
   ],
   "source": [
    "l1 = [1,2,3,4,5,6,7,8,9]\n",
    "print(f\"the list is {l1}\")\n",
    "arr = np.array(l1)\n",
    "print(f\"list converted to array is {arr}\")"
   ]
  },
  {
   "cell_type": "code",
   "execution_count": 13,
   "id": "10f85851-46dc-48ca-a8ac-e19f994e7a7f",
   "metadata": {},
   "outputs": [
    {
     "name": "stdout",
     "output_type": "stream",
     "text": [
      "[0 0 2 3 2 0]\n"
     ]
    }
   ],
   "source": [
    "arr1 = np.array([10,20,30,45,65,32])\n",
    "arr2 = np.array([2,5,4,6,3,8])\n",
    "print(arr1%arr2)"
   ]
  },
  {
   "cell_type": "code",
   "execution_count": 14,
   "id": "4c7f25fa-f3bc-40f2-83e7-e610fb544b62",
   "metadata": {},
   "outputs": [
    {
     "name": "stdout",
     "output_type": "stream",
     "text": [
      "[20 21 22 23 24 25 26 27 28 29 30 31 32 33 34 35 36 37 38 39 40 41 42 43\n",
      " 44 45 46 47 48 49]\n",
      "[2 0 1 2 0 1 2 0 1 2 0 1 2 0 1 2 0 1 2 0 1 2 0 1 2 0 1 2 0 1]\n"
     ]
    }
   ],
   "source": [
    "arr = np.arange(20,50)\n",
    "print(arr)\n",
    "arr1 = (arr%3)\n",
    "print(arr1)"
   ]
  },
  {
   "cell_type": "code",
   "execution_count": null,
   "id": "82870d9f-dc6a-4d82-80b6-1e02669c0fd2",
   "metadata": {},
   "outputs": [],
   "source": []
  }
 ],
 "metadata": {
  "kernelspec": {
   "display_name": "Python 3 (ipykernel)",
   "language": "python",
   "name": "python3"
  },
  "language_info": {
   "codemirror_mode": {
    "name": "ipython",
    "version": 3
   },
   "file_extension": ".py",
   "mimetype": "text/x-python",
   "name": "python",
   "nbconvert_exporter": "python",
   "pygments_lexer": "ipython3",
   "version": "3.10.12"
  }
 },
 "nbformat": 4,
 "nbformat_minor": 5
}
